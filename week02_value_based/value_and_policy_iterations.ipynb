{
 "cells": [
  {
   "cell_type": "markdown",
   "metadata": {},
   "source": [
    "### Markov decision process\n",
    "\n",
    "This week's methods are all built to solve **M**arkov __D__ecision **P**rocesses. In the broadest sense, an MDP is defined by how it changes states and how rewards are computed.\n",
    "\n",
    "State transition is defined by $P(s' |s,a)$ - how likely are you to end at state $s'$ if you take action $a$ from state $s$. Now there's more than one way to define rewards, but we'll use $r(s,a,s')$ function for convenience.\n",
    "\n",
    "\n",
    "_This notebook is inspired by the awesome_ [CS294](https://github.com/berkeleydeeprlcourse/homework/tree/master/sp17_hw/hw2) _by Berkeley_"
   ]
  },
  {
   "cell_type": "markdown",
   "metadata": {},
   "source": [
    "For starters, let's define a simple MDP from this picture:\n",
    "<img src='https://upload.wikimedia.org/wikipedia/commons/thumb/a/ad/Markov_Decision_Process.svg/800px-Markov_Decision_Process.svg.png' width=300px>\n",
    "_img by MistWiz (Own work) [Public domain], via Wikimedia Commons_"
   ]
  },
  {
   "cell_type": "code",
   "execution_count": 7,
   "metadata": {
    "ExecuteTime": {
     "end_time": "2018-04-02T13:44:32.642838Z",
     "start_time": "2018-04-02T13:44:32.545142Z"
    }
   },
   "outputs": [],
   "source": [
    "transition_probs = {\n",
    "    's0': {\n",
    "        'a0': {'s0': 0.5, 's2': 0.5},\n",
    "        'a1': {'s2': 1}\n",
    "    },\n",
    "    's1': {\n",
    "        'a0': {'s0': 0.7, 's1': 0.1, 's2': 0.2},\n",
    "        'a1': {'s1': 0.95, 's2': 0.05}\n",
    "    },\n",
    "    's2': {\n",
    "        'a0': {'s0': 0.4, 's1': 0.6},\n",
    "        'a1': {'s0': 0.3, 's1': 0.3, 's2': 0.4}\n",
    "    }\n",
    "}\n",
    "rewards = {\n",
    "    's1': {'a0': {'s0': +5}},\n",
    "    's2': {'a1': {'s0': -1}}\n",
    "}\n",
    "\n",
    "from mdp import MDP\n",
    "mdp = MDP(transition_probs, rewards, initial_state='s0')"
   ]
  },
  {
   "cell_type": "code",
   "execution_count": 3,
   "metadata": {},
   "outputs": [
    {
     "data": {
      "text/plain": [
       "['__class__',\n",
       " '__delattr__',\n",
       " '__dict__',\n",
       " '__dir__',\n",
       " '__doc__',\n",
       " '__eq__',\n",
       " '__format__',\n",
       " '__ge__',\n",
       " '__getattribute__',\n",
       " '__gt__',\n",
       " '__hash__',\n",
       " '__init__',\n",
       " '__init_subclass__',\n",
       " '__le__',\n",
       " '__lt__',\n",
       " '__module__',\n",
       " '__ne__',\n",
       " '__new__',\n",
       " '__reduce__',\n",
       " '__reduce_ex__',\n",
       " '__repr__',\n",
       " '__setattr__',\n",
       " '__sizeof__',\n",
       " '__str__',\n",
       " '__subclasshook__',\n",
       " '__weakref__',\n",
       " '_check_param_consistency',\n",
       " '_current_state',\n",
       " '_initial_state',\n",
       " '_rewards',\n",
       " '_transition_probs',\n",
       " 'get_all_states',\n",
       " 'get_next_states',\n",
       " 'get_possible_actions',\n",
       " 'get_reward',\n",
       " 'get_transition_prob',\n",
       " 'is_terminal',\n",
       " 'n_states',\n",
       " 'render',\n",
       " 'reset',\n",
       " 'step']"
      ]
     },
     "execution_count": 3,
     "metadata": {},
     "output_type": "execute_result"
    }
   ],
   "source": [
    "dir(mdp)"
   ]
  },
  {
   "cell_type": "markdown",
   "metadata": {},
   "source": [
    "We can now use MDP just as any other gym environment:"
   ]
  },
  {
   "cell_type": "code",
   "execution_count": 8,
   "metadata": {
    "ExecuteTime": {
     "end_time": "2018-04-02T13:44:34.203384Z",
     "start_time": "2018-04-02T13:44:34.199297Z"
    }
   },
   "outputs": [
    {
     "name": "stdout",
     "output_type": "stream",
     "text": [
      "initial state = s0\n",
      "next_state = s2, reward = 0.0, done = False\n"
     ]
    }
   ],
   "source": [
    "print('initial state =', mdp.reset())\n",
    "next_state, reward, done, info = mdp.step('a1')\n",
    "print('next_state = %s, reward = %s, done = %s' % (next_state, reward, done))"
   ]
  },
  {
   "cell_type": "markdown",
   "metadata": {},
   "source": [
    "but it also has other methods that you'll need for Value Iteration"
   ]
  },
  {
   "cell_type": "code",
   "execution_count": 9,
   "metadata": {
    "ExecuteTime": {
     "end_time": "2018-04-02T13:44:34.956122Z",
     "start_time": "2018-04-02T13:44:34.949856Z"
    }
   },
   "outputs": [
    {
     "name": "stdout",
     "output_type": "stream",
     "text": [
      "mdp.get_all_states = ('s0', 's1', 's2')\n",
      "mdp.get_possible_actions('s1') =  ('a0', 'a1')\n",
      "mdp.get_next_states('s1', 'a0') =  {'s0': 0.7, 's1': 0.1, 's2': 0.2}\n",
      "mdp.get_reward('s1', 'a0', 's0') =  5\n",
      "mdp.get_transition_prob('s1', 'a0', 's0') =  0.7\n"
     ]
    }
   ],
   "source": [
    "print(\"mdp.get_all_states =\", mdp.get_all_states())\n",
    "print(\"mdp.get_possible_actions('s1') = \", mdp.get_possible_actions('s1'))\n",
    "print(\"mdp.get_next_states('s1', 'a0') = \", mdp.get_next_states('s1', 'a0'))\n",
    "print(\"mdp.get_reward('s1', 'a0', 's0') = \", mdp.get_reward('s1', 'a0', 's0'))\n",
    "print(\"mdp.get_transition_prob('s1', 'a0', 's0') = \",\n",
    "      mdp.get_transition_prob('s1', 'a0', 's0'))"
   ]
  },
  {
   "cell_type": "markdown",
   "metadata": {},
   "source": [
    "### Optional: Visualizing MDPs\n",
    "\n",
    "You can also visualize any MDP with the drawing fuction donated by [neer201](https://github.com/neer201).\n",
    "\n",
    "You have to install graphviz for system and for python. For ubuntu just run:\n",
    "\n",
    "1. `sudo apt-get install graphviz`\n",
    "2. `pip install graphviz`\n",
    "3. restart the notebook\n",
    "\n",
    "__Note:__ Installing graphviz on some OS (esp. Windows) may be tricky. However, you can ignore this part alltogether and use the standart vizualization."
   ]
  },
  {
   "cell_type": "code",
   "execution_count": 7,
   "metadata": {
    "ExecuteTime": {
     "end_time": "2018-04-02T13:44:37.797182Z",
     "start_time": "2018-04-02T13:44:37.794073Z"
    }
   },
   "outputs": [
    {
     "name": "stdout",
     "output_type": "stream",
     "text": [
      "Graphviz available: False\n"
     ]
    }
   ],
   "source": [
    "from mdp import has_graphviz\n",
    "import numpy as np\n",
    "from IPython.display import display\n",
    "print(\"Graphviz available:\", has_graphviz)"
   ]
  },
  {
   "cell_type": "code",
   "execution_count": 11,
   "metadata": {
    "ExecuteTime": {
     "end_time": "2018-04-02T13:44:38.715883Z",
     "start_time": "2018-04-02T13:44:38.648684Z"
    }
   },
   "outputs": [],
   "source": [
    "if has_graphviz:\n",
    "    from mdp import plot_graph, plot_graph_with_state_values, \\\n",
    "        plot_graph_optimal_strategy_and_state_values\n",
    "\n",
    "    display(plot_graph(mdp))"
   ]
  },
  {
   "cell_type": "markdown",
   "metadata": {},
   "source": [
    "### Value Iteration\n",
    "\n",
    "Now let's build something to solve this MDP. The simplest algorithm so far is __V__alue __I__teration\n",
    "\n",
    "Here's the pseudo-code for VI:\n",
    "\n",
    "---\n",
    "\n",
    "`1.` Initialize $V^{(0)}(s)=0$, for all $s$\n",
    "\n",
    "`2.` For $i=0, 1, 2, \\dots$\n",
    " \n",
    "`3.` $ \\quad V_{(i+1)}(s) = \\max_a \\sum_{s'} P(s' | s,a) \\cdot [ r(s,a,s') + \\gamma V_{i}(s')]$, for all $s$\n",
    "\n",
    "---"
   ]
  },
  {
   "cell_type": "markdown",
   "metadata": {},
   "source": [
    "First, let's write a function to compute the state-action value function $Q^{\\pi}$, defined as follows\n",
    "\n",
    "$$Q_i(s, a) = \\sum_{s'} P(s' | s,a) \\cdot [ r(s,a,s') + \\gamma V_{i}(s')]$$\n"
   ]
  },
  {
   "cell_type": "code",
   "execution_count": 1,
   "metadata": {
    "ExecuteTime": {
     "end_time": "2018-04-02T13:43:17.101416Z",
     "start_time": "2018-04-02T13:43:17.095468Z"
    }
   },
   "outputs": [],
   "source": [
    "def get_action_value(mdp, state_values, state, action, gamma):\n",
    "    \"\"\" Computes Q(s,a) as in formula above \"\"\"\n",
    "    q = 0\n",
    "    for s in mdp.get_next_states(state, action):\n",
    "        q += mdp.get_transition_prob(state, action, s) * (mdp.get_reward(state, action,s) + gamma*state_values[s])\n",
    "    return q"
   ]
  },
  {
   "cell_type": "code",
   "execution_count": 13,
   "metadata": {
    "ExecuteTime": {
     "end_time": "2018-04-02T13:43:17.102247Z",
     "start_time": "2018-04-02T13:43:05.502Z"
    }
   },
   "outputs": [],
   "source": [
    "test_Vs = {s: i for i, s in enumerate(sorted(mdp.get_all_states()))}\n",
    "assert np.allclose(get_action_value(mdp, test_Vs, 's2', 'a1', 0.9), 0.69)\n",
    "assert np.allclose(get_action_value(mdp, test_Vs, 's1', 'a0', 0.9), 3.95)"
   ]
  },
  {
   "cell_type": "markdown",
   "metadata": {},
   "source": [
    "Using $Q(s,a)$ we can now define the \"next\" V(s) for value iteration.\n",
    " $$V_{(i+1)}(s) = \\max_a \\sum_{s'} P(s' | s,a) \\cdot [ r(s,a,s') + \\gamma V_{i}(s')] = \\max_a Q_i(s,a)$$"
   ]
  },
  {
   "cell_type": "code",
   "execution_count": 2,
   "metadata": {
    "ExecuteTime": {
     "end_time": "2018-04-02T13:43:17.103358Z",
     "start_time": "2018-04-02T13:43:05.506Z"
    }
   },
   "outputs": [],
   "source": [
    "def get_new_state_value(mdp, state_values, state, gamma):\n",
    "    \"\"\" Computes next V(s) as in formula above. Please do not change state_values in process. \"\"\"\n",
    "    if mdp.is_terminal(state):\n",
    "        return 0\n",
    "    q_values = [ get_action_value(mdp, state_values, state, action, gamma)  for action in mdp.get_possible_actions(state)]\n",
    "    return max(q_values)"
   ]
  },
  {
   "cell_type": "code",
   "execution_count": 15,
   "metadata": {
    "ExecuteTime": {
     "end_time": "2018-04-02T13:43:17.104340Z",
     "start_time": "2018-04-02T13:43:05.510Z"
    }
   },
   "outputs": [],
   "source": [
    "test_Vs_copy = dict(test_Vs)\n",
    "assert np.allclose(get_new_state_value(mdp, test_Vs, 's0', 0.9), 1.8)\n",
    "assert np.allclose(get_new_state_value(mdp, test_Vs, 's2', 0.9), 0.69)\n",
    "assert test_Vs == test_Vs_copy, \"please do not change state_values in get_new_state_value\""
   ]
  },
  {
   "cell_type": "markdown",
   "metadata": {},
   "source": [
    "Finally, let's combine everything we wrote into a working value iteration algorithm."
   ]
  },
  {
   "cell_type": "code",
   "execution_count": 16,
   "metadata": {
    "ExecuteTime": {
     "end_time": "2018-04-02T13:44:09.793405Z",
     "start_time": "2018-04-02T13:44:09.770623Z"
    }
   },
   "outputs": [
    {
     "name": "stdout",
     "output_type": "stream",
     "text": [
      "iter    0   |   diff: 3.50000   |   V(s0) = 0.000   V(s1) = 0.000   V(s2) = 0.000\n",
      "\n",
      "iter    1   |   diff: 1.89000   |   V(s0) = 0.000   V(s1) = 3.500   V(s2) = 0.000\n",
      "\n",
      "iter    2   |   diff: 1.70100   |   V(s0) = 0.000   V(s1) = 3.815   V(s2) = 1.890\n",
      "\n",
      "iter    3   |   diff: 1.13542   |   V(s0) = 1.701   V(s1) = 4.184   V(s2) = 2.060\n",
      "\n",
      "iter    4   |   diff: 0.73024   |   V(s0) = 1.854   V(s1) = 5.319   V(s2) = 2.871\n",
      "\n",
      "iter    5   |   diff: 0.61135   |   V(s0) = 2.584   V(s1) = 5.664   V(s2) = 3.540\n",
      "\n",
      "iter    6   |   diff: 0.54664   |   V(s0) = 3.186   V(s1) = 6.275   V(s2) = 3.989\n",
      "\n",
      "iter    7   |   diff: 0.49198   |   V(s0) = 3.590   V(s1) = 6.790   V(s2) = 4.535\n",
      "\n",
      "iter    8   |   diff: 0.42210   |   V(s0) = 4.082   V(s1) = 7.189   V(s2) = 4.959\n",
      "\n",
      "iter    9   |   diff: 0.36513   |   V(s0) = 4.463   V(s1) = 7.611   V(s2) = 5.352\n",
      "\n",
      "iter   10   |   diff: 0.32862   |   V(s0) = 4.816   V(s1) = 7.960   V(s2) = 5.717\n",
      "\n",
      "iter   11   |   diff: 0.29262   |   V(s0) = 5.145   V(s1) = 8.280   V(s2) = 6.032\n",
      "\n",
      "iter   12   |   diff: 0.26189   |   V(s0) = 5.429   V(s1) = 8.572   V(s2) = 6.323\n",
      "\n",
      "iter   13   |   diff: 0.23503   |   V(s0) = 5.691   V(s1) = 8.830   V(s2) = 6.584\n",
      "\n",
      "iter   14   |   diff: 0.21124   |   V(s0) = 5.925   V(s1) = 9.065   V(s2) = 6.817\n",
      "\n",
      "iter   15   |   diff: 0.19012   |   V(s0) = 6.135   V(s1) = 9.276   V(s2) = 7.028\n",
      "\n",
      "iter   16   |   diff: 0.17091   |   V(s0) = 6.325   V(s1) = 9.465   V(s2) = 7.218\n",
      "\n",
      "iter   17   |   diff: 0.15366   |   V(s0) = 6.496   V(s1) = 9.636   V(s2) = 7.388\n",
      "\n",
      "iter   18   |   diff: 0.13830   |   V(s0) = 6.649   V(s1) = 9.790   V(s2) = 7.542\n",
      "\n",
      "iter   19   |   diff: 0.12445   |   V(s0) = 6.788   V(s1) = 9.928   V(s2) = 7.680\n",
      "\n",
      "iter   20   |   diff: 0.11200   |   V(s0) = 6.912   V(s1) = 10.052   V(s2) = 7.805\n",
      "\n",
      "iter   21   |   diff: 0.10079   |   V(s0) = 7.024   V(s1) = 10.164   V(s2) = 7.917\n",
      "\n",
      "iter   22   |   diff: 0.09071   |   V(s0) = 7.125   V(s1) = 10.265   V(s2) = 8.017\n",
      "\n",
      "iter   23   |   diff: 0.08164   |   V(s0) = 7.216   V(s1) = 10.356   V(s2) = 8.108\n",
      "\n",
      "iter   24   |   diff: 0.07347   |   V(s0) = 7.297   V(s1) = 10.437   V(s2) = 8.190\n",
      "\n",
      "iter   25   |   diff: 0.06612   |   V(s0) = 7.371   V(s1) = 10.511   V(s2) = 8.263\n",
      "\n",
      "iter   26   |   diff: 0.05951   |   V(s0) = 7.437   V(s1) = 10.577   V(s2) = 8.329\n",
      "\n",
      "iter   27   |   diff: 0.05356   |   V(s0) = 7.496   V(s1) = 10.636   V(s2) = 8.389\n",
      "\n",
      "iter   28   |   diff: 0.04820   |   V(s0) = 7.550   V(s1) = 10.690   V(s2) = 8.442\n",
      "\n",
      "iter   29   |   diff: 0.04338   |   V(s0) = 7.598   V(s1) = 10.738   V(s2) = 8.491\n",
      "\n",
      "iter   30   |   diff: 0.03904   |   V(s0) = 7.641   V(s1) = 10.782   V(s2) = 8.534\n",
      "\n",
      "iter   31   |   diff: 0.03514   |   V(s0) = 7.681   V(s1) = 10.821   V(s2) = 8.573\n",
      "\n",
      "iter   32   |   diff: 0.03163   |   V(s0) = 7.716   V(s1) = 10.856   V(s2) = 8.608\n",
      "\n",
      "iter   33   |   diff: 0.02846   |   V(s0) = 7.747   V(s1) = 10.887   V(s2) = 8.640\n",
      "\n",
      "iter   34   |   diff: 0.02562   |   V(s0) = 7.776   V(s1) = 10.916   V(s2) = 8.668\n",
      "\n",
      "iter   35   |   diff: 0.02306   |   V(s0) = 7.801   V(s1) = 10.941   V(s2) = 8.694\n",
      "\n",
      "iter   36   |   diff: 0.02075   |   V(s0) = 7.824   V(s1) = 10.964   V(s2) = 8.717\n",
      "\n",
      "iter   37   |   diff: 0.01867   |   V(s0) = 7.845   V(s1) = 10.985   V(s2) = 8.738\n",
      "\n",
      "iter   38   |   diff: 0.01681   |   V(s0) = 7.864   V(s1) = 11.004   V(s2) = 8.756\n",
      "\n",
      "iter   39   |   diff: 0.01513   |   V(s0) = 7.881   V(s1) = 11.021   V(s2) = 8.773\n",
      "\n",
      "iter   40   |   diff: 0.01361   |   V(s0) = 7.896   V(s1) = 11.036   V(s2) = 8.788\n",
      "\n",
      "iter   41   |   diff: 0.01225   |   V(s0) = 7.909   V(s1) = 11.049   V(s2) = 8.802\n",
      "\n",
      "iter   42   |   diff: 0.01103   |   V(s0) = 7.922   V(s1) = 11.062   V(s2) = 8.814\n",
      "\n",
      "iter   43   |   diff: 0.00992   |   V(s0) = 7.933   V(s1) = 11.073   V(s2) = 8.825\n",
      "\n",
      "iter   44   |   diff: 0.00893   |   V(s0) = 7.943   V(s1) = 11.083   V(s2) = 8.835\n",
      "\n",
      "iter   45   |   diff: 0.00804   |   V(s0) = 7.952   V(s1) = 11.092   V(s2) = 8.844\n",
      "\n",
      "iter   46   |   diff: 0.00724   |   V(s0) = 7.960   V(s1) = 11.100   V(s2) = 8.852\n",
      "\n",
      "iter   47   |   diff: 0.00651   |   V(s0) = 7.967   V(s1) = 11.107   V(s2) = 8.859\n",
      "\n",
      "iter   48   |   diff: 0.00586   |   V(s0) = 7.973   V(s1) = 11.113   V(s2) = 8.866\n",
      "\n",
      "iter   49   |   diff: 0.00527   |   V(s0) = 7.979   V(s1) = 11.119   V(s2) = 8.872\n",
      "\n",
      "iter   50   |   diff: 0.00475   |   V(s0) = 7.984   V(s1) = 11.125   V(s2) = 8.877\n",
      "\n",
      "iter   51   |   diff: 0.00427   |   V(s0) = 7.989   V(s1) = 11.129   V(s2) = 8.882\n",
      "\n",
      "iter   52   |   diff: 0.00384   |   V(s0) = 7.993   V(s1) = 11.134   V(s2) = 8.886\n",
      "\n",
      "iter   53   |   diff: 0.00346   |   V(s0) = 7.997   V(s1) = 11.137   V(s2) = 8.890\n",
      "\n",
      "iter   54   |   diff: 0.00311   |   V(s0) = 8.001   V(s1) = 11.141   V(s2) = 8.893\n",
      "\n",
      "iter   55   |   diff: 0.00280   |   V(s0) = 8.004   V(s1) = 11.144   V(s2) = 8.896\n",
      "\n",
      "iter   56   |   diff: 0.00252   |   V(s0) = 8.007   V(s1) = 11.147   V(s2) = 8.899\n",
      "\n",
      "iter   57   |   diff: 0.00227   |   V(s0) = 8.009   V(s1) = 11.149   V(s2) = 8.902\n",
      "\n",
      "iter   58   |   diff: 0.00204   |   V(s0) = 8.011   V(s1) = 11.152   V(s2) = 8.904\n",
      "\n",
      "iter   59   |   diff: 0.00184   |   V(s0) = 8.014   V(s1) = 11.154   V(s2) = 8.906\n",
      "\n",
      "iter   60   |   diff: 0.00166   |   V(s0) = 8.015   V(s1) = 11.155   V(s2) = 8.908\n",
      "\n",
      "iter   61   |   diff: 0.00149   |   V(s0) = 8.017   V(s1) = 11.157   V(s2) = 8.909\n",
      "\n",
      "iter   62   |   diff: 0.00134   |   V(s0) = 8.019   V(s1) = 11.159   V(s2) = 8.911\n",
      "\n",
      "iter   63   |   diff: 0.00121   |   V(s0) = 8.020   V(s1) = 11.160   V(s2) = 8.912\n",
      "\n",
      "iter   64   |   diff: 0.00109   |   V(s0) = 8.021   V(s1) = 11.161   V(s2) = 8.913\n",
      "\n",
      "iter   65   |   diff: 0.00098   |   V(s0) = 8.022   V(s1) = 11.162   V(s2) = 8.915\n",
      "\n",
      "Terminated\n"
     ]
    }
   ],
   "source": [
    "# parameters\n",
    "gamma = 0.9            # discount for MDP\n",
    "num_iter = 100         # maximum iterations, excluding initialization\n",
    "# stop VI if new values are this close to old values (or closer)\n",
    "min_difference = 0.001\n",
    "\n",
    "# initialize V(s)\n",
    "state_values = {s: 0 for s in mdp.get_all_states()}\n",
    "\n",
    "if has_graphviz:\n",
    "    display(plot_graph_with_state_values(mdp, state_values))\n",
    "\n",
    "for i in range(num_iter):\n",
    "\n",
    "    # Compute new state values using the functions you defined above.\n",
    "    # It must be a dict {state : float V_new(state)}\n",
    "    new_state_values = {s: get_new_state_value(mdp, state_values, s, gamma) for s in mdp.get_all_states()}\n",
    "\n",
    "    assert isinstance(new_state_values, dict)\n",
    "\n",
    "    # Compute difference\n",
    "    diff = max(abs(new_state_values[s] - state_values[s])\n",
    "               for s in mdp.get_all_states())\n",
    "    print(\"iter %4i   |   diff: %6.5f   |   \" % (i, diff), end=\"\")\n",
    "    print('   '.join(\"V(%s) = %.3f\" % (s, v)\n",
    "                     for s, v in state_values.items()), end='\\n\\n')\n",
    "    state_values = new_state_values\n",
    "\n",
    "    if diff < min_difference:\n",
    "        print(\"Terminated\")\n",
    "        break"
   ]
  },
  {
   "cell_type": "code",
   "execution_count": 18,
   "metadata": {},
   "outputs": [],
   "source": [
    "if has_graphviz:\n",
    "    display(plot_graph_with_state_values(mdp, state_values))"
   ]
  },
  {
   "cell_type": "code",
   "execution_count": 19,
   "metadata": {
    "ExecuteTime": {
     "end_time": "2018-04-02T13:43:17.106395Z",
     "start_time": "2018-04-02T13:43:05.522Z"
    }
   },
   "outputs": [
    {
     "name": "stdout",
     "output_type": "stream",
     "text": [
      "Final state values: {'s0': 8.023123818663871, 's1': 11.163174814980803, 's2': 8.915559364985523}\n"
     ]
    }
   ],
   "source": [
    "print(\"Final state values:\", state_values)\n",
    "\n",
    "assert abs(state_values['s0'] - 8.032) < 0.01\n",
    "assert abs(state_values['s1'] - 11.169) < 0.01\n",
    "assert abs(state_values['s2'] - 8.921) < 0.01"
   ]
  },
  {
   "cell_type": "markdown",
   "metadata": {},
   "source": [
    "Now let's use those $V^{*}(s)$ to find optimal actions in each state\n",
    "\n",
    " $$\\pi^*(s) = argmax_a \\sum_{s'} P(s' | s,a) \\cdot [ r(s,a,s') + \\gamma V_{i}(s')] = argmax_a Q_i(s,a)$$\n",
    " \n",
    "The only difference vs V(s) is that here we take not max but argmax: find action such with maximum Q(s,a)."
   ]
  },
  {
   "cell_type": "code",
   "execution_count": 3,
   "metadata": {
    "ExecuteTime": {
     "end_time": "2018-04-02T13:43:17.107338Z",
     "start_time": "2018-04-02T13:43:05.525Z"
    }
   },
   "outputs": [],
   "source": [
    "def get_optimal_action(mdp, state_values, state, gamma=0.9):\n",
    "    \"\"\" Finds optimal action using formula above. \"\"\"\n",
    "    if mdp.is_terminal(state):\n",
    "        return None\n",
    "    \n",
    "    next_actions = mdp.get_possible_actions(state)\n",
    "    q_values = [get_action_value(mdp, state_values, state, action, gamma)  for action in next_actions]\n",
    "\n",
    "    return next_actions[np.argmax(q_values)]"
   ]
  },
  {
   "cell_type": "code",
   "execution_count": 21,
   "metadata": {
    "ExecuteTime": {
     "end_time": "2018-04-02T13:43:17.108149Z",
     "start_time": "2018-04-02T13:43:05.530Z"
    }
   },
   "outputs": [],
   "source": [
    "assert get_optimal_action(mdp, state_values, 's0', gamma) == 'a1'\n",
    "assert get_optimal_action(mdp, state_values, 's1', gamma) == 'a0'\n",
    "assert get_optimal_action(mdp, state_values, 's2', gamma) == 'a0'"
   ]
  },
  {
   "cell_type": "code",
   "execution_count": 22,
   "metadata": {
    "ExecuteTime": {
     "end_time": "2018-04-02T13:44:05.017823Z",
     "start_time": "2018-04-02T13:44:04.962755Z"
    }
   },
   "outputs": [],
   "source": [
    "if has_graphviz:\n",
    "    display(plot_optimal_strategy_and_state_values(mdp, state_values))"
   ]
  },
  {
   "cell_type": "code",
   "execution_count": 23,
   "metadata": {
    "ExecuteTime": {
     "end_time": "2018-04-02T13:43:17.110002Z",
     "start_time": "2018-04-02T13:43:05.538Z"
    }
   },
   "outputs": [
    {
     "name": "stdout",
     "output_type": "stream",
     "text": [
      "average reward:  0.9315\n"
     ]
    }
   ],
   "source": [
    "# Measure agent's average reward\n",
    "\n",
    "s = mdp.reset()\n",
    "rewards = []\n",
    "for _ in range(10000):\n",
    "    s, r, done, _ = mdp.step(get_optimal_action(mdp, state_values, s, gamma))\n",
    "    rewards.append(r)\n",
    "\n",
    "print(\"average reward: \", np.mean(rewards))\n",
    "\n",
    "assert(0.85 < np.mean(rewards) < 1.0)"
   ]
  },
  {
   "cell_type": "markdown",
   "metadata": {},
   "source": [
    "### Frozen lake"
   ]
  },
  {
   "cell_type": "code",
   "execution_count": 25,
   "metadata": {
    "ExecuteTime": {
     "end_time": "2018-04-02T13:43:17.110991Z",
     "start_time": "2018-04-02T13:43:05.541Z"
    }
   },
   "outputs": [
    {
     "name": "stdout",
     "output_type": "stream",
     "text": [
      "*FFF\n",
      "FHFH\n",
      "FFFH\n",
      "HFFG\n",
      "\n"
     ]
    }
   ],
   "source": [
    "from mdp import FrozenLakeEnv\n",
    "mdp = FrozenLakeEnv(slip_chance=0)\n",
    "\n",
    "mdp.render()"
   ]
  },
  {
   "cell_type": "code",
   "execution_count": 4,
   "metadata": {
    "ExecuteTime": {
     "end_time": "2018-04-02T13:43:17.111919Z",
     "start_time": "2018-04-02T13:43:05.545Z"
    }
   },
   "outputs": [],
   "source": [
    "def value_iteration(mdp, state_values=None, gamma=0.9, num_iter=1000, min_difference=1e-5, verbose=True):\n",
    "    \"\"\" performs num_iter value iteration steps starting from state_values. Same as before but in a function \"\"\"\n",
    "    state_values = state_values or {s: 0 for s in mdp.get_all_states()}\n",
    "    for i in range(num_iter):\n",
    "\n",
    "        # Compute new state values using the functions you defined above. It must be a dict {state : new_V(state)}\n",
    "        new_state_values = {s: get_new_state_value(mdp, state_values, s, gamma) for s in mdp.get_all_states()}\n",
    "\n",
    "        assert isinstance(new_state_values, dict)\n",
    "\n",
    "        # Compute difference\n",
    "        diff = max(abs(new_state_values[s] - state_values[s])\n",
    "                   for s in mdp.get_all_states())\n",
    "        \n",
    "        if verbose:\n",
    "            print(\"iter %4i   |   diff: %6.5f   |   V(start): %.3f \" %\n",
    "              (i, diff, new_state_values[mdp._initial_state]))\n",
    "\n",
    "        state_values = new_state_values\n",
    "        if diff < min_difference:\n",
    "            break\n",
    "\n",
    "    return state_values"
   ]
  },
  {
   "cell_type": "code",
   "execution_count": 27,
   "metadata": {
    "ExecuteTime": {
     "end_time": "2018-04-02T13:43:17.112871Z",
     "start_time": "2018-04-02T13:43:05.548Z"
    }
   },
   "outputs": [
    {
     "name": "stdout",
     "output_type": "stream",
     "text": [
      "iter    0   |   diff: 1.00000   |   V(start): 0.000 \n",
      "iter    1   |   diff: 0.90000   |   V(start): 0.000 \n",
      "iter    2   |   diff: 0.81000   |   V(start): 0.000 \n",
      "iter    3   |   diff: 0.72900   |   V(start): 0.000 \n",
      "iter    4   |   diff: 0.65610   |   V(start): 0.000 \n",
      "iter    5   |   diff: 0.59049   |   V(start): 0.590 \n",
      "iter    6   |   diff: 0.00000   |   V(start): 0.590 \n"
     ]
    }
   ],
   "source": [
    "state_values = value_iteration(mdp)"
   ]
  },
  {
   "cell_type": "code",
   "execution_count": 28,
   "metadata": {
    "ExecuteTime": {
     "end_time": "2018-04-02T13:43:17.114062Z",
     "start_time": "2018-04-02T13:43:05.552Z"
    }
   },
   "outputs": [
    {
     "name": "stdout",
     "output_type": "stream",
     "text": [
      "*FFF\n",
      "FHFH\n",
      "FFFH\n",
      "HFFG\n",
      "\n",
      "down\n",
      "\n",
      "SFFF\n",
      "*HFH\n",
      "FFFH\n",
      "HFFG\n",
      "\n",
      "down\n",
      "\n",
      "SFFF\n",
      "FHFH\n",
      "*FFH\n",
      "HFFG\n",
      "\n",
      "right\n",
      "\n",
      "SFFF\n",
      "FHFH\n",
      "F*FH\n",
      "HFFG\n",
      "\n",
      "down\n",
      "\n",
      "SFFF\n",
      "FHFH\n",
      "FFFH\n",
      "H*FG\n",
      "\n",
      "right\n",
      "\n",
      "SFFF\n",
      "FHFH\n",
      "FFFH\n",
      "HF*G\n",
      "\n",
      "right\n",
      "\n",
      "SFFF\n",
      "FHFH\n",
      "FFFH\n",
      "HFF*\n",
      "\n"
     ]
    }
   ],
   "source": [
    "s = mdp.reset()\n",
    "mdp.render()\n",
    "for t in range(100):\n",
    "    a = get_optimal_action(mdp, state_values, s, gamma)\n",
    "    print(a, end='\\n\\n')\n",
    "    s, r, done, _ = mdp.step(a)\n",
    "    mdp.render()\n",
    "    if done:\n",
    "        break"
   ]
  },
  {
   "cell_type": "markdown",
   "metadata": {},
   "source": [
    "### Let's visualize!\n",
    "\n",
    "It's usually interesting to see what your algorithm actually learned under the hood. To do so, we'll plot state value functions and optimal actions at each VI step."
   ]
  },
  {
   "cell_type": "code",
   "execution_count": 108,
   "metadata": {
    "ExecuteTime": {
     "end_time": "2018-04-02T13:43:17.115092Z",
     "start_time": "2018-04-02T13:43:05.556Z"
    }
   },
   "outputs": [],
   "source": [
    "import matplotlib.pyplot as plt\n",
    "%matplotlib inline\n",
    "\n",
    "\n",
    "def draw_policy(mdp, state_values):\n",
    "    plt.figure(figsize=(3, 3))\n",
    "    h, w = mdp.desc.shape\n",
    "    states = sorted(mdp.get_all_states())\n",
    "    V = np.array([state_values[s] for s in states])\n",
    "    Pi = {s: get_optimal_action(mdp, state_values, s, gamma) for s in states}\n",
    "    plt.imshow(V.reshape(w, h), cmap='gray', interpolation='none', clim=(0, 1))\n",
    "    ax = plt.gca()\n",
    "    ax.set_xticks(np.arange(h)-.5)\n",
    "    ax.set_yticks(np.arange(w)-.5)\n",
    "    ax.set_xticklabels([])\n",
    "    ax.set_yticklabels([])\n",
    "    Y, X = np.mgrid[0:4, 0:4]\n",
    "    a2uv = {'left': (-1, 0), 'down': (0, -1), 'right': (1, 0), 'up': (-1, 0)}\n",
    "    for y in range(h):\n",
    "        for x in range(w):\n",
    "            plt.text(x, y, str(mdp.desc[y, x].item()),\n",
    "                     color='g', size=12,  verticalalignment='center',\n",
    "                     horizontalalignment='center', fontweight='bold')\n",
    "            a = Pi[y, x]\n",
    "            if a is None:\n",
    "                continue\n",
    "            u, v = a2uv[a]\n",
    "            plt.arrow(x, y, u*.3, -v*.3, color='m',\n",
    "                      head_width=0.1, head_length=0.1)\n",
    "    plt.grid(color='b', lw=2, ls='-')\n",
    "    plt.show()"
   ]
  },
  {
   "cell_type": "code",
   "execution_count": 30,
   "metadata": {
    "ExecuteTime": {
     "end_time": "2018-04-02T13:43:17.116164Z",
     "start_time": "2018-04-02T13:43:05.560Z"
    }
   },
   "outputs": [
    {
     "name": "stdout",
     "output_type": "stream",
     "text": [
      "after iteration 0\n",
      "iter    0   |   diff: 1.00000   |   V(start): 0.000 \n"
     ]
    },
    {
     "data": {
      "image/png": "[encoded data removed]",
      "text/plain": [
       "<Figure size 216x216 with 1 Axes>"
      ]
     },
     "metadata": {
      "needs_background": "light"
     },
     "output_type": "display_data"
    },
    {
     "name": "stdout",
     "output_type": "stream",
     "text": [
      "after iteration 1\n",
      "iter    0   |   diff: 0.90000   |   V(start): 0.000 \n"
     ]
    },
    {
     "data": {
      "image/png": "[encoded data removed]",
      "text/plain": [
       "<Figure size 216x216 with 1 Axes>"
      ]
     },
     "metadata": {
      "needs_background": "light"
     },
     "output_type": "display_data"
    },
    {
     "name": "stdout",
     "output_type": "stream",
     "text": [
      "after iteration 2\n",
      "iter    0   |   diff: 0.81000   |   V(start): 0.000 \n"
     ]
    },
    {
     "data": {
      "image/png": "[encoded data removed]",
      "text/plain": [
       "<Figure size 216x216 with 1 Axes>"
      ]
     },
     "metadata": {
      "needs_background": "light"
     },
     "output_type": "display_data"
    },
    {
     "name": "stdout",
     "output_type": "stream",
     "text": [
      "after iteration 3\n",
      "iter    0   |   diff: 0.72900   |   V(start): 0.000 \n"
     ]
    },
    {
     "data": {
      "image/png": "[encoded data removed]",
      "text/plain": [
       "<Figure size 216x216 with 1 Axes>"
      ]
     },
     "metadata": {
      "needs_background": "light"
     },
     "output_type": "display_data"
    },
    {
     "name": "stdout",
     "output_type": "stream",
     "text": [
      "after iteration 4\n",
      "iter    0   |   diff: 0.65610   |   V(start): 0.000 \n"
     ]
    },
    {
     "data": {
      "image/png": "[encoded data removed]",
      "text/plain": [
       "<Figure size 216x216 with 1 Axes>"
      ]
     },
     "metadata": {
      "needs_background": "light"
     },
     "output_type": "display_data"
    },
    {
     "name": "stdout",
     "output_type": "stream",
     "text": [
      "after iteration 5\n",
      "iter    0   |   diff: 0.59049   |   V(start): 0.590 \n"
     ]
    },
    {
     "data": {
      "image/png": "[encoded data removed]",
      "text/plain": [
       "<Figure size 216x216 with 1 Axes>"
      ]
     },
     "metadata": {
      "needs_background": "light"
     },
     "output_type": "display_data"
    },
    {
     "name": "stdout",
     "output_type": "stream",
     "text": [
      "after iteration 6\n",
      "iter    0   |   diff: 0.00000   |   V(start): 0.590 \n"
     ]
    },
    {
     "data": {
      "image/png": "[encoded data removed]",
      "text/plain": [
       "<Figure size 216x216 with 1 Axes>"
      ]
     },
     "metadata": {
      "needs_background": "light"
     },
     "output_type": "display_data"
    },
    {
     "name": "stdout",
     "output_type": "stream",
     "text": [
      "after iteration 7\n",
      "iter    0   |   diff: 0.00000   |   V(start): 0.590 \n"
     ]
    },
    {
     "data": {
      "image/png": "[encoded data removed]",
      "text/plain": [
       "<Figure size 216x216 with 1 Axes>"
      ]
     },
     "metadata": {
      "needs_background": "light"
     },
     "output_type": "display_data"
    },
    {
     "name": "stdout",
     "output_type": "stream",
     "text": [
      "after iteration 8\n",
      "iter    0   |   diff: 0.00000   |   V(start): 0.590 \n"
     ]
    },
    {
     "data": {
      "image/png": "[encoded data removed]",
      "text/plain": [
       "<Figure size 216x216 with 1 Axes>"
      ]
     },
     "metadata": {
      "needs_background": "light"
     },
     "output_type": "display_data"
    },
    {
     "name": "stdout",
     "output_type": "stream",
     "text": [
      "after iteration 9\n",
      "iter    0   |   diff: 0.00000   |   V(start): 0.590 \n"
     ]
    },
    {
     "data": {
      "image/png": "[encoded data removed]",
      "text/plain": [
       "<Figure size 216x216 with 1 Axes>"
      ]
     },
     "metadata": {
      "needs_background": "light"
     },
     "output_type": "display_data"
    }
   ],
   "source": [
    "state_values = {s: 0 for s in mdp.get_all_states()}\n",
    "\n",
    "for i in range(10):\n",
    "    print(\"after iteration %i\" % i)\n",
    "    state_values = value_iteration(mdp, state_values, num_iter=1)\n",
    "    draw_policy(mdp, state_values)\n",
    "# please ignore iter 0 at each step"
   ]
  },
  {
   "cell_type": "code",
   "execution_count": 32,
   "metadata": {
    "ExecuteTime": {
     "end_time": "2018-04-02T13:43:17.117143Z",
     "start_time": "2018-04-02T13:43:05.563Z"
    }
   },
   "outputs": [
    {
     "name": "stdout",
     "output_type": "stream",
     "text": [
      "after iteration 29\n",
      "iter    0   |   diff: 0.00000   |   V(start): 0.198 \n"
     ]
    },
    {
     "data": {
      "image/png": "[encoded data removed]",
      "text/plain": [
       "<Figure size 216x216 with 1 Axes>"
      ]
     },
     "metadata": {
      "needs_background": "light"
     },
     "output_type": "display_data"
    }
   ],
   "source": [
    "from IPython.display import clear_output\n",
    "from time import sleep\n",
    "mdp = FrozenLakeEnv(map_name='8x8', slip_chance=0.1)\n",
    "state_values = {s: 0 for s in mdp.get_all_states()}\n",
    "\n",
    "for i in range(30):\n",
    "    clear_output(True)\n",
    "    print(\"after iteration %i\" % i)\n",
    "    state_values = value_iteration(mdp, state_values, num_iter=1)\n",
    "    draw_policy(mdp, state_values)\n",
    "    sleep(0.5)\n",
    "# please ignore iter 0 at each step"
   ]
  },
  {
   "cell_type": "markdown",
   "metadata": {},
   "source": [
    "Massive tests"
   ]
  },
  {
   "cell_type": "code",
   "execution_count": 33,
   "metadata": {
    "ExecuteTime": {
     "end_time": "2018-04-02T13:43:17.118218Z",
     "start_time": "2018-04-02T13:43:05.568Z"
    }
   },
   "outputs": [
    {
     "name": "stdout",
     "output_type": "stream",
     "text": [
      "iter    0   |   diff: 1.00000   |   V(start): 0.000 \n",
      "iter    1   |   diff: 0.90000   |   V(start): 0.000 \n",
      "iter    2   |   diff: 0.81000   |   V(start): 0.000 \n",
      "iter    3   |   diff: 0.72900   |   V(start): 0.000 \n",
      "iter    4   |   diff: 0.65610   |   V(start): 0.000 \n",
      "iter    5   |   diff: 0.59049   |   V(start): 0.590 \n",
      "iter    6   |   diff: 0.00000   |   V(start): 0.590 \n",
      "average reward:  1.0\n",
      "Well done!\n"
     ]
    }
   ],
   "source": [
    "mdp = FrozenLakeEnv(slip_chance=0)\n",
    "state_values = value_iteration(mdp)\n",
    "\n",
    "total_rewards = []\n",
    "for game_i in range(1000):\n",
    "    s = mdp.reset()\n",
    "    rewards = []\n",
    "    for t in range(100):\n",
    "        s, r, done, _ = mdp.step(\n",
    "            get_optimal_action(mdp, state_values, s, gamma))\n",
    "        rewards.append(r)\n",
    "        if done:\n",
    "            break\n",
    "    total_rewards.append(np.sum(rewards))\n",
    "\n",
    "print(\"average reward: \", np.mean(total_rewards))\n",
    "assert(1.0 <= np.mean(total_rewards) <= 1.0)\n",
    "print(\"Well done!\")"
   ]
  },
  {
   "cell_type": "code",
   "execution_count": 34,
   "metadata": {
    "ExecuteTime": {
     "end_time": "2018-04-02T13:43:17.119075Z",
     "start_time": "2018-04-02T13:43:05.571Z"
    }
   },
   "outputs": [
    {
     "name": "stdout",
     "output_type": "stream",
     "text": [
      "iter    0   |   diff: 0.90000   |   V(start): 0.000 \n",
      "iter    1   |   diff: 0.72900   |   V(start): 0.000 \n",
      "iter    2   |   diff: 0.62330   |   V(start): 0.000 \n",
      "iter    3   |   diff: 0.50487   |   V(start): 0.000 \n",
      "iter    4   |   diff: 0.40894   |   V(start): 0.000 \n",
      "iter    5   |   diff: 0.34868   |   V(start): 0.349 \n",
      "iter    6   |   diff: 0.06529   |   V(start): 0.410 \n",
      "iter    7   |   diff: 0.05832   |   V(start): 0.468 \n",
      "iter    8   |   diff: 0.01139   |   V(start): 0.480 \n",
      "iter    9   |   diff: 0.00764   |   V(start): 0.487 \n",
      "iter   10   |   diff: 0.00164   |   V(start): 0.489 \n",
      "iter   11   |   diff: 0.00094   |   V(start): 0.490 \n",
      "iter   12   |   diff: 0.00022   |   V(start): 0.490 \n",
      "iter   13   |   diff: 0.00011   |   V(start): 0.490 \n",
      "iter   14   |   diff: 0.00003   |   V(start): 0.490 \n",
      "iter   15   |   diff: 0.00001   |   V(start): 0.490 \n",
      "iter   16   |   diff: 0.00000   |   V(start): 0.490 \n",
      "average reward:  0.884\n",
      "Well done!\n"
     ]
    }
   ],
   "source": [
    "# Measure agent's average reward\n",
    "mdp = FrozenLakeEnv(slip_chance=0.1)\n",
    "state_values = value_iteration(mdp)\n",
    "\n",
    "total_rewards = []\n",
    "for game_i in range(1000):\n",
    "    s = mdp.reset()\n",
    "    rewards = []\n",
    "    for t in range(100):\n",
    "        s, r, done, _ = mdp.step(\n",
    "            get_optimal_action(mdp, state_values, s, gamma))\n",
    "        rewards.append(r)\n",
    "        if done:\n",
    "            break\n",
    "    total_rewards.append(np.sum(rewards))\n",
    "\n",
    "print(\"average reward: \", np.mean(total_rewards))\n",
    "assert(0.8 <= np.mean(total_rewards) <= 0.95)\n",
    "print(\"Well done!\")"
   ]
  },
  {
   "cell_type": "code",
   "execution_count": 35,
   "metadata": {
    "ExecuteTime": {
     "end_time": "2018-04-02T13:43:17.120316Z",
     "start_time": "2018-04-02T13:43:05.574Z"
    }
   },
   "outputs": [
    {
     "name": "stdout",
     "output_type": "stream",
     "text": [
      "iter    0   |   diff: 0.75000   |   V(start): 0.000 \n",
      "iter    1   |   diff: 0.50625   |   V(start): 0.000 \n",
      "iter    2   |   diff: 0.39867   |   V(start): 0.000 \n",
      "iter    3   |   diff: 0.26910   |   V(start): 0.000 \n",
      "iter    4   |   diff: 0.18164   |   V(start): 0.000 \n",
      "iter    5   |   diff: 0.14013   |   V(start): 0.140 \n",
      "iter    6   |   diff: 0.07028   |   V(start): 0.199 \n",
      "iter    7   |   diff: 0.06030   |   V(start): 0.260 \n",
      "iter    8   |   diff: 0.02594   |   V(start): 0.285 \n",
      "iter    9   |   diff: 0.01918   |   V(start): 0.305 \n",
      "iter   10   |   diff: 0.00858   |   V(start): 0.313 \n",
      "iter   11   |   diff: 0.00560   |   V(start): 0.319 \n",
      "iter   12   |   diff: 0.00260   |   V(start): 0.321 \n",
      "iter   13   |   diff: 0.00159   |   V(start): 0.323 \n",
      "iter   14   |   diff: 0.00076   |   V(start): 0.324 \n",
      "iter   15   |   diff: 0.00045   |   V(start): 0.324 \n",
      "iter   16   |   diff: 0.00022   |   V(start): 0.324 \n",
      "iter   17   |   diff: 0.00012   |   V(start): 0.325 \n",
      "iter   18   |   diff: 0.00006   |   V(start): 0.325 \n",
      "iter   19   |   diff: 0.00003   |   V(start): 0.325 \n",
      "iter   20   |   diff: 0.00002   |   V(start): 0.325 \n",
      "iter   21   |   diff: 0.00001   |   V(start): 0.325 \n",
      "average reward:  0.638\n",
      "Well done!\n"
     ]
    }
   ],
   "source": [
    "# Measure agent's average reward\n",
    "mdp = FrozenLakeEnv(slip_chance=0.25)\n",
    "state_values = value_iteration(mdp)\n",
    "\n",
    "total_rewards = []\n",
    "for game_i in range(1000):\n",
    "    s = mdp.reset()\n",
    "    rewards = []\n",
    "    for t in range(100):\n",
    "        s, r, done, _ = mdp.step(\n",
    "            get_optimal_action(mdp, state_values, s, gamma))\n",
    "        rewards.append(r)\n",
    "        if done:\n",
    "            break\n",
    "    total_rewards.append(np.sum(rewards))\n",
    "\n",
    "print(\"average reward: \", np.mean(total_rewards))\n",
    "assert(0.6 <= np.mean(total_rewards) <= 0.7)\n",
    "print(\"Well done!\")"
   ]
  },
  {
   "cell_type": "code",
   "execution_count": 36,
   "metadata": {
    "ExecuteTime": {
     "end_time": "2018-04-02T13:43:17.121544Z",
     "start_time": "2018-04-02T13:43:05.578Z"
    }
   },
   "outputs": [
    {
     "name": "stdout",
     "output_type": "stream",
     "text": [
      "iter    0   |   diff: 0.80000   |   V(start): 0.000 \n",
      "iter    1   |   diff: 0.57600   |   V(start): 0.000 \n",
      "iter    2   |   diff: 0.41472   |   V(start): 0.000 \n",
      "iter    3   |   diff: 0.29860   |   V(start): 0.000 \n",
      "iter    4   |   diff: 0.24186   |   V(start): 0.000 \n",
      "iter    5   |   diff: 0.19349   |   V(start): 0.000 \n",
      "iter    6   |   diff: 0.15325   |   V(start): 0.000 \n",
      "iter    7   |   diff: 0.12288   |   V(start): 0.000 \n",
      "iter    8   |   diff: 0.09930   |   V(start): 0.000 \n",
      "iter    9   |   diff: 0.08037   |   V(start): 0.000 \n",
      "iter   10   |   diff: 0.06426   |   V(start): 0.000 \n",
      "iter   11   |   diff: 0.05129   |   V(start): 0.000 \n",
      "iter   12   |   diff: 0.04330   |   V(start): 0.000 \n",
      "iter   13   |   diff: 0.03802   |   V(start): 0.033 \n",
      "iter   14   |   diff: 0.03332   |   V(start): 0.058 \n",
      "iter   15   |   diff: 0.02910   |   V(start): 0.087 \n",
      "iter   16   |   diff: 0.01855   |   V(start): 0.106 \n",
      "iter   17   |   diff: 0.01403   |   V(start): 0.120 \n",
      "iter   18   |   diff: 0.00810   |   V(start): 0.128 \n",
      "iter   19   |   diff: 0.00555   |   V(start): 0.133 \n",
      "iter   20   |   diff: 0.00321   |   V(start): 0.137 \n",
      "iter   21   |   diff: 0.00247   |   V(start): 0.138 \n",
      "iter   22   |   diff: 0.00147   |   V(start): 0.139 \n",
      "iter   23   |   diff: 0.00104   |   V(start): 0.140 \n",
      "iter   24   |   diff: 0.00058   |   V(start): 0.140 \n",
      "iter   25   |   diff: 0.00036   |   V(start): 0.141 \n",
      "iter   26   |   diff: 0.00024   |   V(start): 0.141 \n",
      "iter   27   |   diff: 0.00018   |   V(start): 0.141 \n",
      "iter   28   |   diff: 0.00012   |   V(start): 0.141 \n",
      "iter   29   |   diff: 0.00007   |   V(start): 0.141 \n",
      "iter   30   |   diff: 0.00004   |   V(start): 0.141 \n",
      "iter   31   |   diff: 0.00003   |   V(start): 0.141 \n",
      "iter   32   |   diff: 0.00001   |   V(start): 0.141 \n",
      "iter   33   |   diff: 0.00001   |   V(start): 0.141 \n",
      "average reward:  0.745\n",
      "Well done!\n"
     ]
    }
   ],
   "source": [
    "# Measure agent's average reward\n",
    "mdp = FrozenLakeEnv(slip_chance=0.2, map_name='8x8')\n",
    "state_values = value_iteration(mdp)\n",
    "\n",
    "total_rewards = []\n",
    "for game_i in range(1000):\n",
    "    s = mdp.reset()\n",
    "    rewards = []\n",
    "    for t in range(100):\n",
    "        s, r, done, _ = mdp.step(\n",
    "            get_optimal_action(mdp, state_values, s, gamma))\n",
    "        rewards.append(r)\n",
    "        if done:\n",
    "            break\n",
    "    total_rewards.append(np.sum(rewards))\n",
    "\n",
    "print(\"average reward: \", np.mean(total_rewards))\n",
    "assert(0.6 <= np.mean(total_rewards) <= 0.8)\n",
    "print(\"Well done!\")"
   ]
  },
  {
   "cell_type": "markdown",
   "metadata": {},
   "source": [
    "## Bonus area"
   ]
  },
  {
   "cell_type": "markdown",
   "metadata": {},
   "source": [
    "### Bonus 1 - find an MDP for which value iteration takes long to converge  (2+ pts)\n",
    "\n",
    "When we ran value iteration on the small frozen lake problem, the last iteration where an action changed was iteration 6--i.e., value iteration computed the optimal policy at iteration 6. Are there any guarantees regarding how many iterations it'll take value iteration to compute the optimal policy? There are no such guarantees without additional assumptions--we can construct the MDP in such a way that the greedy policy will change after arbitrarily many iterations.\n",
    "\n",
    "Your task: define an MDP with at most 3 states and 2 actions, such that when you run value iteration, the optimal action changes at iteration >= 50. Use discount=0.95. (However, note that the discount doesn't matter here--you can construct an appropriate MDP with any discount.)\n",
    "\n",
    "Note: optimal action must change at least once after iteration >=50, not necessarily change on every iteration till >=50."
   ]
  },
  {
   "cell_type": "code",
   "execution_count": 177,
   "metadata": {},
   "outputs": [],
   "source": [
    "transition_probs = {\n",
    "    's0': {\n",
    "        'a0': {'s0': 0.5,'s1': 0.5},\n",
    "        'a1': {'s1': 0.5, 's2': 0.5}\n",
    "    },\n",
    "    's1': {\n",
    "        'a0': {'s1': 0.5,'s2': 0.5},\n",
    "        'a1': {'s0': 0.5, 's2': 0.5}\n",
    "    },\n",
    "    's2': {\n",
    "        'a0': {'s2': 0.5,'s0': 0.5},\n",
    "        'a1': {'s0': 0.5, 's1':0.5}\n",
    "    }\n",
    "}\n",
    "\n",
    "rewards = {\n",
    "    's0': {\n",
    "        'a0': {'s0': -1, 's1': +1},\n",
    "        'a1': {'s1': +1, 's2': -1}\n",
    "    },\n",
    "    's1': {\n",
    "        'a0': {'s1': -1, 's2': +1},\n",
    "        'a1': {'s0': -1.00000000000000001, 's2': +1}\n",
    "    },\n",
    "    's2': {\n",
    "        'a0': {'s2': -1, 's0': +1},\n",
    "        'a1': {'s0': +1,'s1': -0.9999999999}\n",
    "    }\n",
    "}\n",
    "\n",
    "\n",
    "from mdp import MDP\n",
    "mdp = MDP(transition_probs, rewards, initial_state='s0')"
   ]
  },
  {
   "cell_type": "code",
   "execution_count": 95,
   "metadata": {
    "ExecuteTime": {
     "end_time": "2018-04-02T13:43:17.123825Z",
     "start_time": "2018-04-02T13:43:05.586Z"
    }
   },
   "outputs": [
    {
     "name": "stdout",
     "output_type": "stream",
     "text": [
      "['a0', 'a0', 'a1']\n",
      "\n",
      " after iteration 0\n",
      "N actions changed = 1\n",
      "['a0', 'a0', 'a1'] changed to ['a1', 'a0', 'a1']\n",
      "\n",
      " after iteration 4\n",
      "N actions changed = 1\n",
      "['a1', 'a0', 'a1'] changed to ['a1', 'a1', 'a1']\n",
      "\n",
      " after iteration 5\n",
      "N actions changed = 1\n",
      "['a1', 'a1', 'a1'] changed to ['a1', 'a0', 'a1']\n",
      "\n",
      " after iteration 7\n",
      "N actions changed = 1\n",
      "['a1', 'a0', 'a1'] changed to ['a1', 'a1', 'a1']\n",
      "\n",
      " after iteration 8\n",
      "N actions changed = 1\n",
      "['a1', 'a1', 'a1'] changed to ['a1', 'a0', 'a1']\n",
      "\n",
      " after iteration 19\n",
      "N actions changed = 1\n",
      "['a1', 'a0', 'a1'] changed to ['a1', 'a1', 'a1']\n",
      "\n",
      " after iteration 20\n",
      "N actions changed = 1\n",
      "['a1', 'a1', 'a1'] changed to ['a1', 'a0', 'a1']\n",
      "\n",
      " after iteration 23\n",
      "N actions changed = 1\n",
      "['a1', 'a0', 'a1'] changed to ['a1', 'a1', 'a1']\n",
      "\n",
      " after iteration 24\n",
      "N actions changed = 1\n",
      "['a1', 'a1', 'a1'] changed to ['a1', 'a0', 'a1']\n",
      "\n",
      " after iteration 26\n",
      "N actions changed = 1\n",
      "['a1', 'a0', 'a1'] changed to ['a1', 'a1', 'a1']\n",
      "\n",
      " after iteration 27\n",
      "N actions changed = 1\n",
      "['a1', 'a1', 'a1'] changed to ['a1', 'a0', 'a1']\n",
      "\n",
      " after iteration 35\n",
      "N actions changed = 1\n",
      "['a1', 'a0', 'a1'] changed to ['a1', 'a1', 'a1']\n",
      "\n",
      " after iteration 36\n",
      "N actions changed = 1\n",
      "['a1', 'a1', 'a1'] changed to ['a1', 'a0', 'a1']\n",
      "\n",
      " after iteration 42\n",
      "N actions changed = 1\n",
      "['a1', 'a0', 'a1'] changed to ['a1', 'a1', 'a1']\n",
      "\n",
      " after iteration 43\n",
      "N actions changed = 1\n",
      "['a1', 'a1', 'a1'] changed to ['a1', 'a0', 'a1']\n",
      "\n",
      " after iteration 58\n",
      "N actions changed = 1\n",
      "['a1', 'a0', 'a1'] changed to ['a1', 'a1', 'a1']\n",
      "\n",
      " after iteration 59\n",
      "N actions changed = 1\n",
      "['a1', 'a1', 'a1'] changed to ['a1', 'a0', 'a1']\n",
      "\n",
      " after iteration 62\n",
      "N actions changed = 1\n",
      "['a1', 'a0', 'a1'] changed to ['a1', 'a1', 'a1']\n",
      "\n",
      " after iteration 63\n",
      "N actions changed = 1\n",
      "['a1', 'a1', 'a1'] changed to ['a1', 'a0', 'a1']\n",
      "\n",
      " after iteration 65\n",
      "N actions changed = 1\n",
      "['a1', 'a0', 'a1'] changed to ['a1', 'a1', 'a1']\n",
      "\n",
      " after iteration 66\n",
      "N actions changed = 1\n",
      "['a1', 'a1', 'a1'] changed to ['a1', 'a0', 'a1']\n",
      "\n",
      " after iteration 67\n",
      "N actions changed = 1\n",
      "['a1', 'a0', 'a1'] changed to ['a1', 'a1', 'a1']\n",
      "\n",
      " after iteration 68\n",
      "N actions changed = 1\n",
      "['a1', 'a1', 'a1'] changed to ['a1', 'a0', 'a1']\n",
      "\n",
      " after iteration 77\n",
      "N actions changed = 1\n",
      "['a1', 'a0', 'a1'] changed to ['a1', 'a1', 'a1']\n",
      "\n",
      " after iteration 78\n",
      "N actions changed = 1\n",
      "['a1', 'a1', 'a1'] changed to ['a1', 'a0', 'a1']\n",
      "\n",
      " after iteration 92\n",
      "N actions changed = 1\n",
      "['a1', 'a0', 'a1'] changed to ['a1', 'a1', 'a1']\n",
      "\n",
      " after iteration 93\n",
      "N actions changed = 1\n",
      "['a1', 'a1', 'a1'] changed to ['a1', 'a0', 'a1']\n"
     ]
    },
    {
     "data": {
      "text/plain": [
       "{'s0': 1.5516804507953452e-10,\n",
       " 's1': 1.5516804507953452e-10,\n",
       " 's2': 1.8965079506827465e-10}"
      ]
     },
     "execution_count": 95,
     "metadata": {},
     "output_type": "execute_result"
    }
   ],
   "source": [
    "gamma = 0.95\n",
    "state_values = {s: 0 for s in mdp.get_all_states()}\n",
    "policy = [get_optimal_action(mdp, state_values, state, gamma)\n",
    "          for state in sorted(mdp.get_all_states())]\n",
    "\n",
    "print(policy)\n",
    "\n",
    "for i in range(100):\n",
    "    state_values = value_iteration(mdp, state_values, num_iter=1,verbose=False)\n",
    "\n",
    "    new_policy = [get_optimal_action(mdp, state_values, state, gamma)\n",
    "                  for state in sorted(mdp.get_all_states())]\n",
    "    \n",
    "\n",
    "    n_changes = (np.array(policy) != np.array(new_policy)).sum()\n",
    "\n",
    "    if n_changes > 0:\n",
    "        print(\"\\n after iteration %i\" % i)\n",
    "        print(\"N actions changed = %i\" % n_changes)\n",
    "        print(str(policy) + \" changed to \" + str(new_policy))\n",
    "    policy = new_policy\n",
    "\n",
    "state_values\n",
    "# please ignore iter 0 at each step"
   ]
  },
  {
   "cell_type": "markdown",
   "metadata": {},
   "source": [
    "### Bonus 2 - Policy Iteration (3+ points)\n",
    "\n",
    "Let's implement exact policy iteration (PI), which has the following pseudocode:\n",
    "\n",
    "---\n",
    "Initialize $\\pi_0$   `// random or fixed action`\n",
    "\n",
    "For $n=0, 1, 2, \\dots$\n",
    "- Compute the state-value function $V^{\\pi_{n}}$\n",
    "- Using $V^{\\pi_{n}}$, compute the state-action-value function $Q^{\\pi_{n}}$\n",
    "- Compute new policy $\\pi_{n+1}(s) = \\operatorname*{argmax}_a Q^{\\pi_{n}}(s,a)$\n",
    "---\n",
    "\n",
    "Unlike VI, policy iteration has to maintain a policy - chosen actions from all states - and estimate $V^{\\pi_{n}}$ based on this policy. It only changes policy once values converged.\n",
    "\n",
    "\n",
    "Below are a few helpers that you may or may not use in your implementation."
   ]
  },
  {
   "cell_type": "code",
   "execution_count": 376,
   "metadata": {
    "ExecuteTime": {
     "end_time": "2018-04-02T13:43:17.125320Z",
     "start_time": "2018-04-02T13:43:05.590Z"
    }
   },
   "outputs": [],
   "source": [
    "transition_probs = {\n",
    "    's0': {\n",
    "        'a0': {'s0': 0.5, 's2': 0.5},\n",
    "        'a1': {'s2': 1}\n",
    "    },\n",
    "    's1': {\n",
    "        'a0': {'s0': 0.7, 's1': 0.1, 's2': 0.2},\n",
    "        'a1': {'s1': 0.95, 's2': 0.05}\n",
    "    },\n",
    "    's2': {\n",
    "        'a0': {'s0': 0.4, 's1': 0.6},\n",
    "        'a1': {'s0': 0.3, 's1': 0.3, 's2': 0.4}\n",
    "    }\n",
    "}\n",
    "rewards = {\n",
    "    's1': {'a0': {'s0': +5}},\n",
    "    's2': {'a1': {'s0': -1}}\n",
    "}\n",
    "\n",
    "from mdp import MDP\n",
    "mdp = MDP(transition_probs, rewards, initial_state='s0')"
   ]
  },
  {
   "cell_type": "markdown",
   "metadata": {},
   "source": [
    "Let's write a function called `compute_vpi` that computes the state-value function $V^{\\pi}$ for an arbitrary policy $\\pi$.\n",
    "\n",
    "Unlike VI, this time you must find the exact solution, not just a single iteration.\n",
    "\n",
    "Recall that $V^{\\pi}$ satisfies the following linear equation:\n",
    "$$V^{\\pi}(s) = \\sum_{s'} P(s,\\pi(s),s')[ R(s,\\pi(s),s') + \\gamma V^{\\pi}(s')]$$\n",
    "\n",
    "You'll have to solve a linear system in your code. (Find an exact solution, e.g., with `np.linalg.solve`.)"
   ]
  },
  {
   "cell_type": "code",
   "execution_count": 127,
   "metadata": {
    "ExecuteTime": {
     "end_time": "2018-04-02T13:43:17.126518Z",
     "start_time": "2018-04-02T13:43:05.593Z"
    }
   },
   "outputs": [],
   "source": [
    "def compute_vpi(mdp, policy, gamma):\n",
    "    \"\"\"\n",
    "    Computes V^pi(s) FOR ALL STATES under given policy.\n",
    "    :param policy: a dict of currently chosen actions {s : a}\n",
    "    :returns: a dict {state : V^pi(state) for all states}\n",
    "    \"\"\"\n",
    "\n",
    "    states = mdp.get_all_states()\n",
    "    a = np.eye(mdp.n_states)\n",
    "    b = np.zeros(mdp.n_states)\n",
    "    for i in range(mdp.n_states):\n",
    "        s = states[i]\n",
    "        if mdp.is_terminal(s):\n",
    "            continue\n",
    "        a[i] -= gamma*np.array([mdp.get_transition_prob(s,policy[s],s_next) for s_next in states])\n",
    "        b[i] = np.sum([mdp.get_transition_prob(s,policy[s],s_next)*mdp.get_reward(s,policy[s],s_next) for s_next in states])\n",
    "    return {states[i]:np.linalg.solve(a,b)[i] for i in range(len(states))}"
   ]
  },
  {
   "cell_type": "code",
   "execution_count": 24,
   "metadata": {
    "ExecuteTime": {
     "end_time": "2018-04-02T13:43:17.127349Z",
     "start_time": "2018-04-02T13:43:05.597Z"
    }
   },
   "outputs": [
    {
     "name": "stdout",
     "output_type": "stream",
     "text": [
      "{'s0': 1.5296611435138713e-10, 's1': 1.690678105989016e-10, 's2': 2.0296611848840568e-10}\n"
     ]
    }
   ],
   "source": [
    "test_policy = {s: np.random.choice(mdp.get_possible_actions(s)) for s in mdp.get_all_states() if not mdp.is_terminal(s)}\n",
    "new_vpi = compute_vpi(mdp, test_policy, gamma)\n",
    "\n",
    "print(new_vpi)\n",
    "\n",
    "assert type(\n",
    "    new_vpi) is dict, \"compute_vpi must return a dict {state : V^pi(state) for all states}\""
   ]
  },
  {
   "cell_type": "markdown",
   "metadata": {},
   "source": [
    "Once we've got new state values, it's time to update our policy."
   ]
  },
  {
   "cell_type": "code",
   "execution_count": 124,
   "metadata": {
    "ExecuteTime": {
     "end_time": "2018-04-02T13:43:17.128415Z",
     "start_time": "2018-04-02T13:43:05.601Z"
    }
   },
   "outputs": [],
   "source": [
    "def compute_new_policy(mdp, vpi, gamma):\n",
    "    \"\"\"\n",
    "    Computes new policy as argmax of state values\n",
    "    :param vpi: a dict {state : V^pi(state) for all states}\n",
    "    :returns: a dict {state : optimal action for all states}\n",
    "    \"\"\"\n",
    "    new_policy = {}\n",
    "    # Nonterminal states\n",
    "    states = mdp.get_all_states()\n",
    "    for s in states:\n",
    "        if mdp.is_terminal(s):\n",
    "            continue\n",
    "        actions = mdp.get_possible_actions(s)\n",
    "        q_values = [np.sum([mdp.get_transition_prob(s,a,s_next)*(mdp.get_reward(s,a,s_next)+gamma*vpi[s_next]) for s_next in states]) for a in actions]\n",
    "        new_policy.update({s: actions[np.argmax(q_values)]})\n",
    "    return new_policy"
   ]
  },
  {
   "cell_type": "code",
   "execution_count": 380,
   "metadata": {
    "ExecuteTime": {
     "end_time": "2018-04-02T13:43:17.129416Z",
     "start_time": "2018-04-02T13:43:05.604Z"
    }
   },
   "outputs": [
    {
     "name": "stdout",
     "output_type": "stream",
     "text": [
      "{'s0': 'a1', 's1': 'a0', 's2': 'a0'}\n"
     ]
    }
   ],
   "source": [
    "new_policy = compute_new_policy(mdp, new_vpi, gamma)\n",
    "\n",
    "print(new_policy)\n",
    "\n",
    "assert type(\n",
    "    new_policy) is dict, \"compute_new_policy must return a dict {state : optimal action for all states}\""
   ]
  },
  {
   "cell_type": "markdown",
   "metadata": {},
   "source": [
    "__Main loop__"
   ]
  },
  {
   "cell_type": "code",
   "execution_count": 179,
   "metadata": {
    "ExecuteTime": {
     "end_time": "2018-04-02T13:43:17.130183Z",
     "start_time": "2018-04-02T13:43:05.608Z"
    }
   },
   "outputs": [],
   "source": [
    "def policy_iteration(mdp, policy=None, gamma=0.9, num_iter=1000):\n",
    "    \"\"\" \n",
    "    Run the policy iteration loop for num_iter iterations or till policy stop changing.\n",
    "    If policy is not given, initialize it at random.\n",
    "    \"\"\"\n",
    "    if policy is None:\n",
    "        policy = {s: np.random.choice(mdp.get_possible_actions(s)) for s in mdp.get_all_states() if not mdp.is_terminal(s)}\n",
    "        print(\"Initial policy: \" + str(policy))\n",
    "\n",
    "    state_values = {s: 0 for s in mdp.get_all_states()}\n",
    "    \n",
    "    for i in range(num_iter):\n",
    "        new_state_values = compute_vpi(mdp, policy, gamma)\n",
    "        new_policy = compute_new_policy(mdp, new_state_values, gamma)\n",
    "        \n",
    "        # Compute difference\n",
    "        diff = max(abs(new_state_values[s] - state_values[s])\n",
    "                   for s in mdp.get_all_states())\n",
    "        policy_unchanged = (policy == new_policy)\n",
    "        \n",
    "        print(\"iter %4i   |   diff: %6.5f   |   V(start): %.3f \" %\n",
    "              (i, diff, new_state_values[mdp._initial_state]))\n",
    "        \n",
    "        state_values = new_state_values \n",
    "        policy = new_policy\n",
    "        \n",
    "        if policy_unchanged:\n",
    "            break\n",
    "\n",
    "    return state_values, policy"
   ]
  },
  {
   "cell_type": "markdown",
   "metadata": {},
   "source": [
    "__Your PI Results__"
   ]
  },
  {
   "cell_type": "code",
   "execution_count": 101,
   "metadata": {
    "ExecuteTime": {
     "end_time": "2018-04-02T13:43:17.130926Z",
     "start_time": "2018-04-02T13:43:05.612Z"
    }
   },
   "outputs": [
    {
     "name": "stdout",
     "output_type": "stream",
     "text": [
      "iter    0   |   diff: 0.00000   |   V(start): 0.000 \n",
      "iter    1   |   diff: 0.00000   |   V(start): 0.000 \n",
      "iter    2   |   diff: 0.00000   |   V(start): 0.000 \n",
      "iter    3   |   diff: 0.00000   |   V(start): 0.000 \n",
      "iter    4   |   diff: 0.00000   |   V(start): 0.000 \n",
      "iter    5   |   diff: 0.00000   |   V(start): 0.000 \n",
      "iter    6   |   diff: 0.00000   |   V(start): 0.000 \n",
      "iter    7   |   diff: 0.00000   |   V(start): 0.000 \n",
      "iter    8   |   diff: 0.00000   |   V(start): 0.000 \n",
      "iter    9   |   diff: 0.00000   |   V(start): 0.000 \n",
      "iter   10   |   diff: 0.00000   |   V(start): 0.000 \n",
      "iter   11   |   diff: 0.00000   |   V(start): 0.000 \n",
      "iter   12   |   diff: 0.00000   |   V(start): 0.000 \n",
      "iter   13   |   diff: 0.00000   |   V(start): 0.000 \n",
      "iter   14   |   diff: 0.00000   |   V(start): 0.000 \n",
      "iter   15   |   diff: 0.00000   |   V(start): 0.000 \n",
      "iter   16   |   diff: 0.00000   |   V(start): 0.000 \n",
      "iter   17   |   diff: 0.00000   |   V(start): 0.000 \n",
      "iter   18   |   diff: 0.00000   |   V(start): 0.000 \n",
      "iter   19   |   diff: 0.00000   |   V(start): 0.000 \n",
      "iter   20   |   diff: 0.00000   |   V(start): 0.000 \n",
      "iter   21   |   diff: 0.00000   |   V(start): 0.000 \n",
      "iter   22   |   diff: 0.00000   |   V(start): 0.000 \n",
      "iter   23   |   diff: 0.00000   |   V(start): 0.000 \n",
      "iter   24   |   diff: 0.00000   |   V(start): 0.000 \n",
      "iter   25   |   diff: 0.00000   |   V(start): 0.000 \n",
      "iter   26   |   diff: 0.00000   |   V(start): 0.000 \n",
      "iter   27   |   diff: 0.00000   |   V(start): 0.000 \n",
      "iter   28   |   diff: 0.00000   |   V(start): 0.000 \n",
      "iter   29   |   diff: 0.00000   |   V(start): 0.000 \n",
      "iter   30   |   diff: 0.00000   |   V(start): 0.000 \n",
      "iter   31   |   diff: 0.00000   |   V(start): 0.000 \n",
      "iter   32   |   diff: 0.00000   |   V(start): 0.000 \n",
      "iter   33   |   diff: 0.00000   |   V(start): 0.000 \n",
      "iter   34   |   diff: 0.00000   |   V(start): 0.000 \n",
      "iter   35   |   diff: 0.00000   |   V(start): 0.000 \n",
      "iter   36   |   diff: 0.00000   |   V(start): 0.000 \n",
      "iter   37   |   diff: 0.00000   |   V(start): 0.000 \n",
      "iter   38   |   diff: 0.00000   |   V(start): 0.000 \n",
      "iter   39   |   diff: 0.00000   |   V(start): 0.000 \n",
      "iter   40   |   diff: 0.00000   |   V(start): 0.000 \n",
      "iter   41   |   diff: 0.00000   |   V(start): 0.000 \n",
      "iter   42   |   diff: 0.00000   |   V(start): 0.000 \n",
      "iter   43   |   diff: 0.00000   |   V(start): 0.000 \n",
      "iter   44   |   diff: 0.00000   |   V(start): 0.000 \n",
      "iter   45   |   diff: 0.00000   |   V(start): 0.000 \n",
      "iter   46   |   diff: 0.00000   |   V(start): 0.000 \n",
      "iter   47   |   diff: 0.00000   |   V(start): 0.000 \n",
      "iter   48   |   diff: 0.00000   |   V(start): 0.000 \n",
      "iter   49   |   diff: 0.00000   |   V(start): 0.000 \n",
      "iter   50   |   diff: 0.00000   |   V(start): 0.000 \n",
      "iter   51   |   diff: 0.00000   |   V(start): 0.000 \n",
      "iter   52   |   diff: 0.00000   |   V(start): 0.000 \n",
      "iter   53   |   diff: 0.00000   |   V(start): 0.000 \n",
      "iter   54   |   diff: 0.00000   |   V(start): 0.000 \n",
      "iter   55   |   diff: 0.00000   |   V(start): 0.000 \n",
      "\n",
      "Policy: ['a1', 'a1', 'a1']\n"
     ]
    },
    {
     "data": {
      "text/plain": [
       "{'s0': 3.0318020316499883e-10,\n",
       " 's1': 3.0318009214269637e-10,\n",
       " 's2': 3.370784207312738e-10}"
      ]
     },
     "execution_count": 101,
     "metadata": {},
     "output_type": "execute_result"
    }
   ],
   "source": [
    "state_values = value_iteration(mdp, state_values=None, gamma=0.95, num_iter=1000, min_difference=1e-12)\n",
    "\n",
    "policy = [get_optimal_action(mdp, state_values, state, gamma)\n",
    "                  for state in sorted(mdp.get_all_states())]\n",
    "print(\"\\nPolicy: \"+str(policy))\n",
    "state_values"
   ]
  },
  {
   "cell_type": "markdown",
   "metadata": {},
   "source": [
    "In the case \"\"min_difference\" = 1e-12 in value iteration  we end up with wrong policy.\n",
    "\n",
    "#### If state values and rewards are very similar, value iteration algorithm will need very small \"min_difference\" parameter and take long to determine optimal policy.  \n",
    "\n",
    "#### In policy iteration we don't need \"min_difference\" parameter. It will stop when policy stop changing.\n",
    "\n",
    "```\n",
    "\n",
    "```"
   ]
  },
  {
   "cell_type": "code",
   "execution_count": 180,
   "metadata": {},
   "outputs": [
    {
     "name": "stdout",
     "output_type": "stream",
     "text": [
      "Initial policy: {'s0': 'a0', 's1': 'a0', 's2': 'a1'}\n",
      "iter    0   |   diff: 0.00000   |   V(start): 0.000 \n",
      "iter    1   |   diff: 0.00000   |   V(start): 0.000 \n",
      "\n",
      "Policy: {'s0': 'a1', 's1': 'a0', 's2': 'a1'}\n"
     ]
    },
    {
     "data": {
      "text/plain": [
       "{'s0': 1.551724266321266e-10,\n",
       " 's1': 1.551724266321266e-10,\n",
       " 's2': 1.896551881059325e-10}"
      ]
     },
     "execution_count": 180,
     "metadata": {},
     "output_type": "execute_result"
    }
   ],
   "source": [
    "state_values, policy = policy_iteration(mdp, policy=None, gamma=0.9, num_iter=1000)\n",
    "\n",
    "print(\"\\nPolicy: \"+str(policy))\n",
    "state_values"
   ]
  },
  {
   "cell_type": "markdown",
   "metadata": {},
   "source": [
    "```\n",
    "\n",
    "\n",
    "\n",
    "```"
   ]
  },
  {
   "cell_type": "code",
   "execution_count": 138,
   "metadata": {},
   "outputs": [
    {
     "name": "stdout",
     "output_type": "stream",
     "text": [
      "*FFF\n",
      "FHFH\n",
      "FFFH\n",
      "HFFG\n",
      "\n"
     ]
    }
   ],
   "source": [
    "from mdp import FrozenLakeEnv\n",
    "mdp = FrozenLakeEnv(slip_chance=0.4)\n",
    "mdp.render()"
   ]
  },
  {
   "cell_type": "code",
   "execution_count": 139,
   "metadata": {},
   "outputs": [
    {
     "name": "stdout",
     "output_type": "stream",
     "text": [
      "iter    0   |   diff: 0.60000   |   V(start): 0.000 \n",
      "iter    1   |   diff: 0.32400   |   V(start): 0.000 \n",
      "iter    2   |   diff: 0.23328   |   V(start): 0.000 \n",
      "iter    3   |   diff: 0.12597   |   V(start): 0.000 \n",
      "iter    4   |   diff: 0.09448   |   V(start): 0.000 \n",
      "iter    5   |   diff: 0.06326   |   V(start): 0.046 \n",
      "iter    6   |   diff: 0.04022   |   V(start): 0.076 \n",
      "iter    7   |   diff: 0.03184   |   V(start): 0.108 \n",
      "iter    8   |   diff: 0.01939   |   V(start): 0.127 \n",
      "iter    9   |   diff: 0.01538   |   V(start): 0.142 \n",
      "iter   10   |   diff: 0.00929   |   V(start): 0.152 \n",
      "iter   11   |   diff: 0.00663   |   V(start): 0.158 \n",
      "iter   12   |   diff: 0.00419   |   V(start): 0.162 \n",
      "iter   13   |   diff: 0.00307   |   V(start): 0.165 \n",
      "iter   14   |   diff: 0.00247   |   V(start): 0.168 \n",
      "iter   15   |   diff: 0.00189   |   V(start): 0.169 \n",
      "iter   16   |   diff: 0.00143   |   V(start): 0.170 \n",
      "iter   17   |   diff: 0.00105   |   V(start): 0.171 \n",
      "iter   18   |   diff: 0.00077   |   V(start): 0.171 \n",
      "iter   19   |   diff: 0.00056   |   V(start): 0.171 \n",
      "iter   20   |   diff: 0.00040   |   V(start): 0.172 \n",
      "iter   21   |   diff: 0.00028   |   V(start): 0.172 \n",
      "iter   22   |   diff: 0.00020   |   V(start): 0.172 \n",
      "iter   23   |   diff: 0.00014   |   V(start): 0.172 \n",
      "iter   24   |   diff: 0.00010   |   V(start): 0.172 \n",
      "iter   25   |   diff: 0.00007   |   V(start): 0.172 \n",
      "iter   26   |   diff: 0.00005   |   V(start): 0.172 \n",
      "iter   27   |   diff: 0.00003   |   V(start): 0.172 \n",
      "iter   28   |   diff: 0.00002   |   V(start): 0.172 \n",
      "iter   29   |   diff: 0.00002   |   V(start): 0.172 \n",
      "iter   30   |   diff: 0.00001   |   V(start): 0.172 \n",
      "iter   31   |   diff: 0.00001   |   V(start): 0.172 \n"
     ]
    },
    {
     "data": {
      "text/plain": [
       "{(0, 0): 0.17219966597197295,\n",
       " (0, 1): 0.15131656380547115,\n",
       " (0, 2): 0.21452705778357722,\n",
       " (0, 3): 0.1412713453797217,\n",
       " (1, 0): 0.2110536465610175,\n",
       " (1, 1): 0,\n",
       " (1, 2): 0.2997466878738233,\n",
       " (1, 3): 0,\n",
       " (2, 0): 0.32048946591995153,\n",
       " (2, 1): 0.5231482939907974,\n",
       " (2, 2): 0.5550866011648566,\n",
       " (2, 3): 0,\n",
       " (3, 0): 0,\n",
       " (3, 1): 0.6769348359166643,\n",
       " (3, 2): 0.8535555518249783,\n",
       " (3, 3): 0}"
      ]
     },
     "execution_count": 139,
     "metadata": {},
     "output_type": "execute_result"
    }
   ],
   "source": [
    "state_values0 = value_iteration(mdp)\n",
    "\n",
    "state_values0"
   ]
  },
  {
   "cell_type": "code",
   "execution_count": 140,
   "metadata": {},
   "outputs": [
    {
     "name": "stdout",
     "output_type": "stream",
     "text": [
      "Initial policy: {(0, 0): 'up', (0, 1): 'right', (0, 2): 'up', (0, 3): 'right', (1, 0): 'down', (1, 2): 'left', (2, 0): 'right', (2, 1): 'up', (2, 2): 'left', (3, 1): 'left', (3, 2): 'up'}\n",
      "iter    0   |   diff: 0.22597   |   V(start): 0.000 \n",
      "iter    1   |   diff: 0.64490   |   V(start): 0.125 \n",
      "iter    2   |   diff: 0.12020   |   V(start): 0.170 \n",
      "iter    3   |   diff: 0.01162   |   V(start): 0.172 \n",
      "iter    4   |   diff: 0.00000   |   V(start): 0.172 \n"
     ]
    },
    {
     "data": {
      "text/plain": [
       "{(0, 0): 0.1722065621794277,\n",
       " (0, 1): 0.1513329930726741,\n",
       " (0, 2): 0.2145333090062949,\n",
       " (0, 3): 0.14127803276024298,\n",
       " (1, 0): 0.21105452265564695,\n",
       " (1, 1): 0.0,\n",
       " (1, 2): 0.29974689695624035,\n",
       " (1, 3): 0.0,\n",
       " (2, 0): 0.32049020106968606,\n",
       " (2, 1): 0.5231488647993882,\n",
       " (2, 2): 0.5550868462152598,\n",
       " (2, 3): 0.0,\n",
       " (3, 0): 0.0,\n",
       " (3, 1): 0.6769351783112924,\n",
       " (3, 2): 0.8535556491692035,\n",
       " (3, 3): 0.0}"
      ]
     },
     "execution_count": 140,
     "metadata": {},
     "output_type": "execute_result"
    }
   ],
   "source": [
    "state_values1, policy = policy_iteration(mdp)\n",
    "\n",
    "state_values1"
   ]
  },
  {
   "cell_type": "markdown",
   "metadata": {},
   "source": [
    "```\n",
    "\n",
    "```"
   ]
  },
  {
   "cell_type": "code",
   "execution_count": 174,
   "metadata": {},
   "outputs": [
    {
     "name": "stdout",
     "output_type": "stream",
     "text": [
      "*FFFFFFF\n",
      "FFFFFFFF\n",
      "FFFHFFFF\n",
      "FFFFFHFF\n",
      "FFFHFFFF\n",
      "FHHFFFHF\n",
      "FHFFHFHF\n",
      "FFFHFFFG\n",
      "\n"
     ]
    }
   ],
   "source": [
    "from mdp import FrozenLakeEnv\n",
    "mdp = FrozenLakeEnv(slip_chance=0.3, map_name='8x8')\n",
    "mdp.render()"
   ]
  },
  {
   "cell_type": "code",
   "execution_count": 175,
   "metadata": {},
   "outputs": [
    {
     "name": "stdout",
     "output_type": "stream",
     "text": [
      "iter    0   |   diff: 0.70000   |   V(start): 0.000 \n",
      "iter    1   |   diff: 0.44100   |   V(start): 0.000 \n",
      "iter    2   |   diff: 0.27783   |   V(start): 0.000 \n",
      "iter    3   |   diff: 0.17503   |   V(start): 0.000 \n",
      "iter    4   |   diff: 0.13390   |   V(start): 0.000 \n",
      "iter    5   |   diff: 0.09924   |   V(start): 0.000 \n",
      "iter    6   |   diff: 0.07190   |   V(start): 0.000 \n",
      "iter    7   |   diff: 0.05782   |   V(start): 0.000 \n",
      "iter    8   |   diff: 0.05018   |   V(start): 0.000 \n",
      "iter    9   |   diff: 0.04372   |   V(start): 0.000 \n",
      "iter   10   |   diff: 0.03715   |   V(start): 0.000 \n",
      "iter   11   |   diff: 0.03166   |   V(start): 0.000 \n",
      "iter   12   |   diff: 0.02624   |   V(start): 0.000 \n",
      "iter   13   |   diff: 0.02151   |   V(start): 0.009 \n",
      "iter   14   |   diff: 0.01746   |   V(start): 0.019 \n",
      "iter   15   |   diff: 0.01489   |   V(start): 0.033 \n",
      "iter   16   |   diff: 0.01299   |   V(start): 0.045 \n",
      "iter   17   |   diff: 0.01125   |   V(start): 0.057 \n",
      "iter   18   |   diff: 0.00855   |   V(start): 0.065 \n",
      "iter   19   |   diff: 0.00689   |   V(start): 0.072 \n",
      "iter   20   |   diff: 0.00502   |   V(start): 0.077 \n",
      "iter   21   |   diff: 0.00416   |   V(start): 0.081 \n",
      "iter   22   |   diff: 0.00308   |   V(start): 0.083 \n",
      "iter   23   |   diff: 0.00239   |   V(start): 0.085 \n",
      "iter   24   |   diff: 0.00196   |   V(start): 0.087 \n",
      "iter   25   |   diff: 0.00160   |   V(start): 0.087 \n",
      "iter   26   |   diff: 0.00132   |   V(start): 0.088 \n",
      "iter   27   |   diff: 0.00100   |   V(start): 0.088 \n",
      "iter   28   |   diff: 0.00076   |   V(start): 0.089 \n",
      "iter   29   |   diff: 0.00058   |   V(start): 0.089 \n",
      "iter   30   |   diff: 0.00042   |   V(start): 0.089 \n",
      "iter   31   |   diff: 0.00030   |   V(start): 0.089 \n",
      "iter   32   |   diff: 0.00021   |   V(start): 0.089 \n",
      "iter   33   |   diff: 0.00014   |   V(start): 0.089 \n",
      "iter   34   |   diff: 0.00009   |   V(start): 0.089 \n",
      "iter   35   |   diff: 0.00006   |   V(start): 0.089 \n",
      "iter   36   |   diff: 0.00004   |   V(start): 0.089 \n",
      "iter   37   |   diff: 0.00003   |   V(start): 0.089 \n",
      "iter   38   |   diff: 0.00002   |   V(start): 0.089 \n",
      "iter   39   |   diff: 0.00001   |   V(start): 0.089 \n",
      "iter   40   |   diff: 0.00001   |   V(start): 0.089 \n",
      "{(0, 0): 0.08896771385782327, (0, 1): 0.1045091578897275, (0, 2): 0.12290598437704148, (0, 3): 0.1446105035419561, (0, 4): 0.16963987996820895, (0, 5): 0.19366526202398124, (0, 6): 0.21967027906041617, (0, 7): 0.24468318785899806, (1, 0): 0.08234820817991016, (1, 1): 0.09607421120853862, (1, 2): 0.11266113165480822, (1, 3): 0.13492645273572712, (1, 4): 0.18318112221620514, (1, 5): 0.21576459503998247, (1, 6): 0.2547512177468357, (1, 7): 0.28888172790804856, (2, 0): 0.07267913881182114, (2, 1): 0.08140298995733639, (2, 2): 0.08196555381160237, (2, 3): 0, (2, 4): 0.18035623407467852, (2, 5): 0.21575218630204837, (2, 6): 0.29622853840326246, (2, 7): 0.34204966462765113, (3, 0): 0.06389515470033759, (3, 1): 0.07024780183023605, (3, 2): 0.0765877007088808, (3, 3): 0.09194700177826977, (3, 4): 0.14594762457069727, (3, 5): 0, (3, 6): 0.34330253740611616, (3, 7): 0.40616208029222745, (4, 0): 0.055800695796733614, (4, 1): 0.059383127713137175, (4, 2): 0.05626632835694097, (4, 3): 0, (4, 4): 0.21195996985726293, (4, 5): 0.2601881167960408, (4, 6): 0.35133019968390394, (4, 7): 0.4841021555190611, (5, 0): 0.04063653737954145, (5, 1): 0, (5, 2): 0, (5, 3): 0.14594559192110662, (5, 4): 0.20991502423871383, (5, 5): 0.28777845820295944, (5, 6): 0, (5, 7): 0.5893949012663302, (6, 0): 0.029591027653783804, (6, 1): 0, (6, 2): 0.07058736351307893, (6, 3): 0.10147501620226582, (6, 4): 0, (6, 5): 0.4118094127124644, (6, 6): 0, (6, 7): 0.8092485549132947, (7, 0): 0.0307784674928719, (7, 1): 0.035920406992562916, (7, 2): 0.04931929234654788, (7, 3): 0, (7, 4): 0.47608024591036346, (7, 5): 0.6536657344642293, (7, 6): 0.8092485549132947, (7, 7): 0}\n"
     ]
    }
   ],
   "source": [
    "state_values0 = value_iteration(mdp)\n",
    "\n",
    "print(state_values0)"
   ]
  },
  {
   "cell_type": "code",
   "execution_count": 176,
   "metadata": {},
   "outputs": [
    {
     "name": "stdout",
     "output_type": "stream",
     "text": [
      "Initial policy: {(0, 0): 'left', (0, 1): 'left', (0, 2): 'right', (0, 3): 'left', (0, 4): 'right', (0, 5): 'down', (0, 6): 'right', (0, 7): 'left', (1, 0): 'up', (1, 1): 'up', (1, 2): 'right', (1, 3): 'down', (1, 4): 'right', (1, 5): 'down', (1, 6): 'up', (1, 7): 'up', (2, 0): 'right', (2, 1): 'down', (2, 2): 'down', (2, 4): 'up', (2, 5): 'left', (2, 6): 'left', (2, 7): 'down', (3, 0): 'left', (3, 1): 'down', (3, 2): 'up', (3, 3): 'left', (3, 4): 'right', (3, 6): 'down', (3, 7): 'left', (4, 0): 'right', (4, 1): 'down', (4, 2): 'up', (4, 4): 'up', (4, 5): 'up', (4, 6): 'right', (4, 7): 'up', (5, 0): 'up', (5, 3): 'right', (5, 4): 'left', (5, 5): 'right', (5, 7): 'left', (6, 0): 'left', (6, 2): 'down', (6, 3): 'right', (6, 5): 'left', (6, 7): 'down', (7, 0): 'down', (7, 1): 'down', (7, 2): 'down', (7, 4): 'up', (7, 5): 'down', (7, 6): 'right'}\n",
      "iter    0   |   diff: 0.80925   |   V(start): 0.000 \n",
      "iter    1   |   diff: 0.48015   |   V(start): -0.000 \n",
      "iter    2   |   diff: 0.31962   |   V(start): 0.019 \n",
      "iter    3   |   diff: 0.08317   |   V(start): 0.087 \n",
      "iter    4   |   diff: 0.00994   |   V(start): 0.089 \n",
      "iter    5   |   diff: 0.00332   |   V(start): 0.089 \n",
      "{(0, 0): 0.08896961708810697, (0, 1): 0.10451014586319717, (0, 2): 0.12290650284652119, (0, 3): 0.1446107978666419, (0, 4): 0.16964006820735197, (0, 5): 0.19366538114563486, (0, 6): 0.2196703561619817, (0, 7): 0.24468323806821113, (1, 0): 0.08235056953628368, (1, 1): 0.0960754028026459, (1, 2): 0.11266164671301057, (1, 3): 0.13492664580750757, (1, 4): 0.18318125094525542, (1, 5): 0.21576466895500515, (1, 6): 0.25475125804462295, (1, 7): 0.2888817505510081, (2, 0): 0.07268272195349863, (2, 1): 0.08140515319938965, (2, 2): 0.08196653311111429, (2, 3): 0.0, (2, 4): 0.18035629848599719, (2, 5): 0.21575222172023686, (2, 6): 0.29622855779573204, (2, 7): 0.34204967363586974, (3, 0): 0.0639006166687465, (3, 1): 0.07025124879823398, (3, 2): 0.07658828912842758, (3, 3): 0.09194700631497967, (3, 4): 0.1459476290713963, (3, 5): 0.0, (3, 6): 0.3433025449563706, (3, 7): 0.4061620831628627, (4, 0): 0.05580909130630774, (4, 1): 0.059388707249228914, (4, 2): 0.05626809762955528, (4, 3): 0.0, (4, 4): 0.21195997336329214, (4, 5): 0.2601881191051245, (4, 6): 0.3513302019358762, (4, 7): 0.48410215613772406, (5, 0): 0.0406470838415883, (5, 1): 0.0, (5, 2): 0.0, (5, 3): 0.14594559334803153, (5, 4): 0.20991502520314945, (5, 5): 0.2877784584112778, (5, 6): 0.0, (5, 7): 0.5893949012663302, (6, 0): 0.029604234474220392, (6, 1): 0.0, (6, 2): 0.070587366573239, (6, 3): 0.10147501829664714, (6, 4): 0.0, (6, 5): 0.41180941271246446, (6, 6): 0.0, (6, 7): 0.8092485549132947, (7, 0): 0.030782001826990382, (7, 1): 0.035920412581471314, (7, 2): 0.04931929663963919, (7, 3): 0.0, (7, 4): 0.4760802459103635, (7, 5): 0.6536657344642293, (7, 6): 0.8092485549132947, (7, 7): 0.0}\n"
     ]
    }
   ],
   "source": [
    "state_values1, policy = policy_iteration(mdp)\n",
    "\n",
    "print(state_values1)"
   ]
  },
  {
   "cell_type": "code",
   "execution_count": null,
   "metadata": {},
   "outputs": [],
   "source": []
  }
 ],
 "metadata": {
  "kernelspec": {
   "display_name": "Python 3",
   "language": "python",
   "name": "python3"
  },
  "language_info": {
   "codemirror_mode": {
    "name": "ipython",
    "version": 3
   },
   "file_extension": ".py",
   "mimetype": "text/x-python",
   "name": "python",
   "nbconvert_exporter": "python",
   "pygments_lexer": "ipython3",
   "version": "3.7.2"
  },
  "toc": {
   "nav_menu": {},
   "number_sections": true,
   "sideBar": true,
   "skip_h1_title": false,
   "title_cell": "Table of Contents",
   "title_sidebar": "Contents",
   "toc_cell": false,
   "toc_position": {},
   "toc_section_display": true,
   "toc_window_display": false
  },
  "varInspector": {
   "cols": {
    "lenName": 16,
    "lenType": 16,
    "lenVar": 40
   },
   "kernels_config": {
    "python": {
     "delete_cmd_postfix": "",
     "delete_cmd_prefix": "del ",
     "library": "var_list.py",
     "varRefreshCmd": "print(var_dic_list())"
    },
    "r": {
     "delete_cmd_postfix": ") ",
     "delete_cmd_prefix": "rm(",
     "library": "var_list.r",
     "varRefreshCmd": "cat(var_dic_list()) "
    }
   },
   "types_to_exclude": [
    "module",
    "function",
    "builtin_function_or_method",
    "instance",
    "_Feature"
   ],
   "window_display": false
  }
 },
 "nbformat": 4,
 "nbformat_minor": 2
}
